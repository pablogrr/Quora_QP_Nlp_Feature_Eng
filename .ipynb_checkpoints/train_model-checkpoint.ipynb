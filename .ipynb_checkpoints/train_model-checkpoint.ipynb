{
 "cells": [
  {
   "cell_type": "code",
   "execution_count": 1,
   "metadata": {},
   "outputs": [],
   "source": [
    "from utils_quora import *\n",
    "\n",
    "full_train_df = pd.read_csv('quora_question_pairs/quora_train.csv')\n"
   ]
  },
  {
   "cell_type": "code",
   "execution_count": 2,
   "metadata": {},
   "outputs": [],
   "source": [
    "#preprocessing the data\n",
    "df_full = preprocess(full_train_df)"
   ]
  },
  {
   "cell_type": "code",
   "execution_count": 9,
   "metadata": {},
   "outputs": [],
   "source": [
    "df_full.to_csv('preprocessed_to_train.csv')"
   ]
  },
  {
   "cell_type": "code",
   "execution_count": 3,
   "metadata": {},
   "outputs": [],
   "source": [
    "#Dropping all the sample where there is not one of the two questions\n",
    "len_1   = df_full.question1_cleaned.apply(lambda x: cont_len(x))\n",
    "empty_1 = len_1[len_1==0].index\n",
    "len_2   = df_full.question2_cleaned.apply(lambda x: cont_len(x))\n",
    "empty_2 = len_2[len_2==0].index\n",
    "\n",
    "to_delete = (empty_2).union(set(empty_1))\n",
    "df_full = df_full.drop(index=to_delete)"
   ]
  },
  {
   "cell_type": "code",
   "execution_count": 4,
   "metadata": {},
   "outputs": [
    {
     "name": "stdout",
     "output_type": "stream",
     "text": [
      "len done\n",
      "len_common done\n",
      "len_not_common done\n",
      "mean_dist_not_com done\n",
      "both_number done\n",
      "avg_len done\n",
      "edit_distance done\n",
      "levenshtein_distance done\n",
      "length_diff_characters done\n",
      "length_diff_tokens done\n",
      "common_numbers done\n",
      "first_word last_word done\n"
     ]
    }
   ],
   "source": [
    "#adding features\n",
    "scaler = MinMaxScaler()\n",
    "df_full_feat = Add_features(df_full, scaler, 'question1_cleaned', 'question2_cleaned')\n",
    "#df_full_feat = df_full_feat.dropna()"
   ]
  },
  {
   "cell_type": "code",
   "execution_count": 6,
   "metadata": {},
   "outputs": [
    {
     "data": {
      "text/plain": [
       "(404269, 23)"
      ]
     },
     "execution_count": 6,
     "metadata": {},
     "output_type": "execute_result"
    }
   ],
   "source": [
    "df_full_feat.shape"
   ]
  },
  {
   "cell_type": "code",
   "execution_count": 5,
   "metadata": {},
   "outputs": [],
   "source": [
    "df_full_feat.to_csv('feat_full_to_train')"
   ]
  },
  {
   "cell_type": "code",
   "execution_count": null,
   "metadata": {},
   "outputs": [],
   "source": [
    "#df_full_feat = pd.read_csv('data_lemm_to_train.csv')"
   ]
  },
  {
   "cell_type": "code",
   "execution_count": 7,
   "metadata": {},
   "outputs": [],
   "source": [
    "#fitting tfidf\n",
    "tfidf = sklearn.feature_extraction.text.TfidfVectorizer()\n",
    "fit_on_q1_q2(df_full_feat, tfidf, 'question1_cleaned', 'question2_cleaned')"
   ]
  },
  {
   "cell_type": "code",
   "execution_count": 8,
   "metadata": {},
   "outputs": [],
   "source": [
    "#Vectorizing and splitting for the model\n",
    "train_df, val_df, test_df, X_train_q1q2, X_val_q1q2, X_test_q1q2 = vectorize_train_val_test(df_full_feat, get_tfidf, tfidf, 'question1_cleaned', 'question2_cleaned')\n"
   ]
  },
  {
   "cell_type": "code",
   "execution_count": 10,
   "metadata": {},
   "outputs": [
    {
     "name": "stdout",
     "output_type": "stream",
     "text": [
      "...features added...\n",
      "...logistic model fitted...\n"
     ]
    },
    {
     "name": "stderr",
     "output_type": "stream",
     "text": [
      "/Users/pablogranatiero/opt/anaconda3/lib/python3.7/site-packages/xgboost/sklearn.py:888: UserWarning: The use of label encoder in XGBClassifier is deprecated and will be removed in a future release. To remove this warning, do the following: 1) Pass option use_label_encoder=False when constructing XGBClassifier object; and 2) Encode your labels (y) as integers starting with 0, i.e. 0, 1, 2, ..., [num_class - 1].\n",
      "  warnings.warn(label_encoder_deprecation_msg, UserWarning)\n"
     ]
    },
    {
     "name": "stdout",
     "output_type": "stream",
     "text": [
      "[15:02:11] WARNING: /Users/travis/build/dmlc/xgboost/src/learner.cc:541: \n",
      "Parameters: { silent } might not be used.\n",
      "\n",
      "  This may not be accurate due to some parameters are only used in language bindings but\n",
      "  passed down to XGBoost core.  Or some parameters are not used but slip through this\n",
      "  verification. Please open an issue if you find above cases.\n",
      "\n",
      "\n",
      "[15:02:45] WARNING: /Users/travis/build/dmlc/xgboost/src/learner.cc:1061: Starting in XGBoost 1.3.0, the default evaluation metric used with the objective 'binary:logistic' was changed from 'error' to 'logloss'. Explicitly set eval_metric if you'd like to restore the old behavior.\n",
      "...model fitted...\n",
      "logistic_train_acc:0.9162940032246525, logistic_val_acc:0.8845866519255919, logistic_test_acc:0.8883134600283261\n",
      "xgb_train_acc:0.9934400195565345, xgb_val_acc:0.9169556622439547, xgb_test_acc:0.9158662473022318\n"
     ]
    }
   ],
   "source": [
    "#Training the model with all the features\n",
    "cols_lenght = ['len_q1', 'len_q2', 'len_common', 'len_not_common', 'avg_len_q1', 'avg_len_q2']\n",
    "cols_dist_lenght = cols_lenght + ['mean_dist_not_com', 'edit_distance', 'levenshtein_distance']\n",
    "all_cols = cols_dist_lenght + ['both_number', 'first_word', 'last_word', 'length_diff_characters', 'length_diff_tokens', 'common_numbers']\n",
    "\n",
    "logistic_mod, xgb_mod, acc_logistic, acc_xgboost \\\n",
    " = train_models_plus_feat(X_train_q1q2, X_val_q1q2, X_test_q1q2, train_df, val_df, test_df, all_cols)"
   ]
  },
  {
   "cell_type": "code",
   "execution_count": 13,
   "metadata": {},
   "outputs": [
    {
     "name": "stdout",
     "output_type": "stream",
     "text": [
      "The acc_xgboost_train=0.9934400195565345, acc_xgboost_val=0.9169556622439547, acc_xgboost_test=0.9158662473022318\n"
     ]
    }
   ],
   "source": [
    "print('The acc_xgboost_train={}, acc_xgboost_val={}, acc_xgboost_test={}'.format(acc_xgboost[0],\\\n",
    "                                                                                                acc_xgboost[1],\\\n",
    "                                                                                                acc_xgboost[2]))"
   ]
  }
 ],
 "metadata": {
  "kernelspec": {
   "display_name": "Python 3",
   "language": "python",
   "name": "python3"
  },
  "language_info": {
   "codemirror_mode": {
    "name": "ipython",
    "version": 3
   },
   "file_extension": ".py",
   "mimetype": "text/x-python",
   "name": "python",
   "nbconvert_exporter": "python",
   "pygments_lexer": "ipython3",
   "version": "3.8.5"
  }
 },
 "nbformat": 4,
 "nbformat_minor": 4
}
