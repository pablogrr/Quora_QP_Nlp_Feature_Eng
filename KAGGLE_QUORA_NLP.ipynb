{
  "nbformat": 4,
  "nbformat_minor": 0,
  "metadata": {
    "colab": {
      "name": "KAGGLE_QUORA_NLP.ipynb",
      "provenance": [],
      "collapsed_sections": []
    },
    "kernelspec": {
      "name": "python3",
      "display_name": "Python 3"
    },
    "language_info": {
      "name": "python"
    }
  },
  "cells": [
    {
      "cell_type": "code",
      "metadata": {
        "id": "hmb4HZhgzHL4"
      },
      "source": [
        "import pandas as pd\n",
        "import scipy\n",
        "import sklearn\n",
        "from sklearn import *\n",
        "import numpy as np\n",
        "import os"
      ],
      "execution_count": 6,
      "outputs": []
    },
    {
      "cell_type": "code",
      "metadata": {
        "id": "NZRnGXirzJd3"
      },
      "source": [
        "full_train_df = pd.read_csv('quora_train.csv', encoding='utf8')\n",
        "train_df, test_df = sklearn.model_selection.train_test_split(full_train_df, test_size=0.1,random_state=123)"
      ],
      "execution_count": 10,
      "outputs": []
    },
    {
      "cell_type": "code",
      "metadata": {
        "colab": {
          "base_uri": "https://localhost:8080/"
        },
        "id": "Qmz1X1BgzTY5",
        "outputId": "78f7d85a-90b0-409a-a496-5b16893f5df6"
      },
      "source": [
        "count_vectorizer = sklearn.feature_extraction.text.CountVectorizer(ngram_range=(1,1))\n",
        "\n",
        "all_q1 = list(train_df[\"question1\"]) + list(test_df[\"question1\"])\n",
        "all_q2 = list(train_df[\"question2\"]) + list(test_df[\"question2\"])\n",
        "all_questions = all_q1 + all_q2\n",
        "\n",
        "len(all_questions)"
      ],
      "execution_count": 11,
      "outputs": [
        {
          "output_type": "execute_result",
          "data": {
            "text/plain": [
              "808580"
            ]
          },
          "metadata": {
            "tags": []
          },
          "execution_count": 11
        }
      ]
    },
    {
      "cell_type": "code",
      "metadata": {
        "id": "-z00kU1szW6K"
      },
      "source": [
        "def cast_list_as_strings(mylist):\n",
        "    \"\"\"\n",
        "    return a list of strings\n",
        "    \"\"\"\n",
        "    #assert isinstance(mylist, list), f\"the input mylist should be a list it is {type(mylist)}\"\n",
        "    mylist_of_strings = []\n",
        "    for x in mylist:\n",
        "        mylist_of_strings.append(str(x))\n",
        "\n",
        "    return mylist_of_strings"
      ],
      "execution_count": 12,
      "outputs": []
    },
    {
      "cell_type": "code",
      "metadata": {
        "id": "3rM_10HlzaBQ"
      },
      "source": [
        "q1_train =  cast_list_as_strings(list(train_df[\"question1\"]))\n",
        "q2_train =  cast_list_as_strings(list(train_df[\"question2\"]))\n",
        "q1_test  =  cast_list_as_strings(list(test_df[\"question1\"]))\n",
        "q2_test  =  cast_list_as_strings(list(test_df[\"question2\"]))\n",
        "\n",
        "all_questions = q1_train + q2_train + q1_test + q2_test"
      ],
      "execution_count": 13,
      "outputs": []
    },
    {
      "cell_type": "markdown",
      "metadata": {
        "id": "5LvgLfr3HeEg"
      },
      "source": [
        "USING TFIDF REPRES"
      ]
    },
    {
      "cell_type": "code",
      "metadata": {
        "colab": {
          "base_uri": "https://localhost:8080/"
        },
        "id": "NKbj3Urp07K2",
        "outputId": "92aea2c3-57c6-4710-e1c6-49230a9c5c0d"
      },
      "source": [
        "tfidf = sklearn.feature_extraction.text.TfidfVectorizer()\n",
        "tfidf.fit(all_questions)"
      ],
      "execution_count": 16,
      "outputs": [
        {
          "output_type": "execute_result",
          "data": {
            "text/plain": [
              "TfidfVectorizer(analyzer='word', binary=False, decode_error='strict',\n",
              "                dtype=<class 'numpy.float64'>, encoding='utf-8',\n",
              "                input='content', lowercase=True, max_df=1.0, max_features=None,\n",
              "                min_df=1, ngram_range=(1, 1), norm='l2', preprocessor=None,\n",
              "                smooth_idf=True, stop_words=None, strip_accents=None,\n",
              "                sublinear_tf=False, token_pattern='(?u)\\\\b\\\\w\\\\w+\\\\b',\n",
              "                tokenizer=None, use_idf=True, vocabulary=None)"
            ]
          },
          "metadata": {
            "tags": []
          },
          "execution_count": 16
        }
      ]
    },
    {
      "cell_type": "code",
      "metadata": {
        "id": "K-jRcU2fznN5"
      },
      "source": [
        "def get_tfidf_from_df(df, tfidf):\n",
        "    \"\"\"\n",
        "    returns a sparse matrix containing the features build by the  tfidf.\n",
        "    Each row should contain features from question1 and question2 plus similarity.\n",
        "    \"\"\"\n",
        "    q1_casted =  cast_list_as_strings(list(df[\"question1\"]))\n",
        "    q2_casted =  cast_list_as_strings(list(df[\"question2\"]))\n",
        "    \n",
        "    tfidf_q1 = tfidf.transform(q1_casted)\n",
        "    tfidf_q2 = tfidf.transform(q2_casted)\n",
        "    tfidf_q1q2 = scipy.sparse.hstack((tfidf_q1,tfidf_q2))\n",
        "    \n",
        "    return tfidf_q1q2.tocsr() \n"
      ],
      "execution_count": 58,
      "outputs": []
    },
    {
      "cell_type": "code",
      "metadata": {
        "colab": {
          "base_uri": "https://localhost:8080/"
        },
        "id": "sPmcrFxZzxHX",
        "outputId": "42a09c05-8f3a-4dfe-d95e-4f8785d158ad"
      },
      "source": [
        "tfidf_tr_q1q2 = get_tfidf_from_df(train_df,tfidf)\n",
        "tfidf_te_q1q2  = get_tfidf_from_df(test_df, tfidf)\n",
        "\n",
        "tfidf_tr_q1q2.shape, train_df.shape, test_df.shape, tfidf_te_q1q2.shape"
      ],
      "execution_count": 59,
      "outputs": [
        {
          "output_type": "execute_result",
          "data": {
            "text/plain": [
              "((363861, 172306), (363861, 6), (40429, 6), (40429, 172306))"
            ]
          },
          "metadata": {
            "tags": []
          },
          "execution_count": 59
        }
      ]
    },
    {
      "cell_type": "code",
      "metadata": {
        "colab": {
          "base_uri": "https://localhost:8080/"
        },
        "id": "PSldR10Mzqx7",
        "outputId": "0c45c342-f77c-4fad-f350-2af29dee9b38"
      },
      "source": [
        "logistic = sklearn.linear_model.LogisticRegression(solver=\"liblinear\",\n",
        "                                                   random_state=123)\n",
        "y_train = train_df[\"is_duplicate\"].values\n",
        "logistic.fit(tfidf_tr_q1q2, y_train)"
      ],
      "execution_count": 60,
      "outputs": [
        {
          "output_type": "execute_result",
          "data": {
            "text/plain": [
              "LogisticRegression(C=1.0, class_weight=None, dual=False, fit_intercept=True,\n",
              "                   intercept_scaling=1, l1_ratio=None, max_iter=100,\n",
              "                   multi_class='auto', n_jobs=None, penalty='l2',\n",
              "                   random_state=123, solver='liblinear', tol=0.0001, verbose=0,\n",
              "                   warm_start=False)"
            ]
          },
          "metadata": {
            "tags": []
          },
          "execution_count": 60
        }
      ]
    },
    {
      "cell_type": "code",
      "metadata": {
        "colab": {
          "base_uri": "https://localhost:8080/"
        },
        "id": "MzYXx19P1Uka",
        "outputId": "51809d07-5170-417e-95bb-5b8a76f2f962"
      },
      "source": [
        "y_val = test_df[\"is_duplicate\"].values\n",
        "logistic.score(tfidf_te_q1q2, y_val)"
      ],
      "execution_count": 61,
      "outputs": [
        {
          "output_type": "execute_result",
          "data": {
            "text/plain": [
              "0.7597763981300552"
            ]
          },
          "metadata": {
            "tags": []
          },
          "execution_count": 61
        }
      ]
    },
    {
      "cell_type": "markdown",
      "metadata": {
        "id": "p7QcfG70HXvm"
      },
      "source": [
        "ADDING FEAT COS_SIM"
      ]
    },
    {
      "cell_type": "code",
      "metadata": {
        "id": "JsRfenXo74Z5"
      },
      "source": [
        "def tfidf_add_cos_sim(df, tfidf, sim=True):\n",
        "    q1_casted =  cast_list_as_strings(list(df[\"question1\"]))\n",
        "    q2_casted =  cast_list_as_strings(list(df[\"question2\"]))\n",
        "    \n",
        "    tfidf_q1 = tfidf.transform(q1_casted)\n",
        "    tfidf_q2 = tfidf.transform(q2_casted)\n",
        "    tfidf_q1q2 = scipy.sparse.hstack((tfidf_q1,tfidf_q2))\n",
        "    if sim == True:\n",
        "        sims = []\n",
        "        for i in range(len(q1_casted)):\n",
        "            sims.append(cosine_similarity(tfidf_q1[i,:],tfidf_q2[i,:]))\n",
        "        sims = np.reshape(sims, (len(q1_casted), 1))\n",
        "\n",
        "        return scipy.sparse.hstack((tfidf_q1q2,sims)).tocsr() \n",
        "    else:\n",
        "        return tfidf_q1q2.tocsr() \n",
        "\n"
      ],
      "execution_count": 92,
      "outputs": []
    },
    {
      "cell_type": "code",
      "metadata": {
        "colab": {
          "base_uri": "https://localhost:8080/"
        },
        "id": "uNiP-8zD8efL",
        "outputId": "10efc575-3af8-4065-e9bd-b52f662de20e"
      },
      "source": [
        "tfidf_tr_q1q2_sim  = tfidf_add_cos_sim(train_df,tfidf)\n",
        "tfidf_te_q1q2_sim  = tfidf_add_cos_sim(test_df, tfidf)\n",
        "\n",
        "tfidf_tr_q1q2_sim.shape, train_df.shape, test_df.shape, tfidf_te_q1q2_sim.shape"
      ],
      "execution_count": 93,
      "outputs": [
        {
          "output_type": "execute_result",
          "data": {
            "text/plain": [
              "((363861, 172307), (363861, 6), (40429, 6), (40429, 172307))"
            ]
          },
          "metadata": {
            "tags": []
          },
          "execution_count": 93
        }
      ]
    },
    {
      "cell_type": "code",
      "metadata": {
        "colab": {
          "base_uri": "https://localhost:8080/"
        },
        "id": "9l2o_Kq99MAj",
        "outputId": "a511acdc-ecd0-4fd6-dc47-41f40f472535"
      },
      "source": [
        "logistic_sim = sklearn.linear_model.LogisticRegression(solver=\"liblinear\",\n",
        "                                                   random_state=123)\n",
        "logistic_sim.fit(tfidf_tr_q1q2_sim, y_train)"
      ],
      "execution_count": 78,
      "outputs": [
        {
          "output_type": "execute_result",
          "data": {
            "text/plain": [
              "LogisticRegression(C=1.0, class_weight=None, dual=False, fit_intercept=True,\n",
              "                   intercept_scaling=1, l1_ratio=None, max_iter=100,\n",
              "                   multi_class='auto', n_jobs=None, penalty='l2',\n",
              "                   random_state=123, solver='liblinear', tol=0.0001, verbose=0,\n",
              "                   warm_start=False)"
            ]
          },
          "metadata": {
            "tags": []
          },
          "execution_count": 78
        }
      ]
    },
    {
      "cell_type": "code",
      "metadata": {
        "colab": {
          "base_uri": "https://localhost:8080/"
        },
        "id": "_oMNI3Pl9aNr",
        "outputId": "43201a08-362b-41a0-df0e-3a3b865b7e4d"
      },
      "source": [
        "logistic_sim.score(tfidf_te_q1q2_sim, y_val)"
      ],
      "execution_count": 80,
      "outputs": [
        {
          "output_type": "execute_result",
          "data": {
            "text/plain": [
              "0.7958890895149522"
            ]
          },
          "metadata": {
            "tags": []
          },
          "execution_count": 80
        }
      ]
    },
    {
      "cell_type": "markdown",
      "metadata": {
        "id": "AquZD7YwHmL8"
      },
      "source": [
        "USING JUST 15K MOST COMMON FEAT"
      ]
    },
    {
      "cell_type": "code",
      "metadata": {
        "colab": {
          "base_uri": "https://localhost:8080/"
        },
        "id": "hhe2nmmK_Bco",
        "outputId": "aeba329c-386b-4cac-846a-c4b484e0435d"
      },
      "source": [
        "tfidf_max_feat = sklearn.feature_extraction.text.TfidfVectorizer(max_features=15000)\n",
        "tfidf_max_feat.fit(all_questions)"
      ],
      "execution_count": 82,
      "outputs": [
        {
          "output_type": "execute_result",
          "data": {
            "text/plain": [
              "TfidfVectorizer(analyzer='word', binary=False, decode_error='strict',\n",
              "                dtype=<class 'numpy.float64'>, encoding='utf-8',\n",
              "                input='content', lowercase=True, max_df=1.0, max_features=15000,\n",
              "                min_df=1, ngram_range=(1, 1), norm='l2', preprocessor=None,\n",
              "                smooth_idf=True, stop_words=None, strip_accents=None,\n",
              "                sublinear_tf=False, token_pattern='(?u)\\\\b\\\\w\\\\w+\\\\b',\n",
              "                tokenizer=None, use_idf=True, vocabulary=None)"
            ]
          },
          "metadata": {
            "tags": []
          },
          "execution_count": 82
        }
      ]
    },
    {
      "cell_type": "code",
      "metadata": {
        "colab": {
          "base_uri": "https://localhost:8080/"
        },
        "id": "PU9IMKvpFHiq",
        "outputId": "2126bb7b-6ad2-4feb-cdea-844e671b6cfd"
      },
      "source": [
        "tfidf_tr_q1q2_sim_15  = tfidf_add_cos_sim(train_df,tfidf_max_feat)\n",
        "tfidf_te_q1q2_sim_15  = tfidf_add_cos_sim(test_df, tfidf_max_feat)\n",
        "\n",
        "tfidf_tr_q1q2_sim_15.shape, train_df.shape, test_df.shape, tfidf_te_q1q2_sim_15.shape"
      ],
      "execution_count": 83,
      "outputs": [
        {
          "output_type": "execute_result",
          "data": {
            "text/plain": [
              "((363861, 30001), (363861, 6), (40429, 6), (40429, 30001))"
            ]
          },
          "metadata": {
            "tags": []
          },
          "execution_count": 83
        }
      ]
    },
    {
      "cell_type": "code",
      "metadata": {
        "colab": {
          "base_uri": "https://localhost:8080/"
        },
        "id": "smVKEhnwG-J3",
        "outputId": "04a7ef4e-4bad-46b8-e0af-752b94258121"
      },
      "source": [
        "logistic_sim_15 = sklearn.linear_model.LogisticRegression(solver=\"liblinear\",\n",
        "                                                   random_state=123)\n",
        "logistic_sim_15.fit(tfidf_tr_q1q2_sim_15, y_train)"
      ],
      "execution_count": 84,
      "outputs": [
        {
          "output_type": "execute_result",
          "data": {
            "text/plain": [
              "LogisticRegression(C=1.0, class_weight=None, dual=False, fit_intercept=True,\n",
              "                   intercept_scaling=1, l1_ratio=None, max_iter=100,\n",
              "                   multi_class='auto', n_jobs=None, penalty='l2',\n",
              "                   random_state=123, solver='liblinear', tol=0.0001, verbose=0,\n",
              "                   warm_start=False)"
            ]
          },
          "metadata": {
            "tags": []
          },
          "execution_count": 84
        }
      ]
    },
    {
      "cell_type": "code",
      "metadata": {
        "colab": {
          "base_uri": "https://localhost:8080/"
        },
        "id": "7QNwTJcGHJxQ",
        "outputId": "143f0626-d81a-4bca-b971-12089ac71cce"
      },
      "source": [
        "logistic_sim_15.score(tfidf_te_q1q2_sim_15, y_val)"
      ],
      "execution_count": 86,
      "outputs": [
        {
          "output_type": "execute_result",
          "data": {
            "text/plain": [
              "0.7880729179549334"
            ]
          },
          "metadata": {
            "tags": []
          },
          "execution_count": 86
        }
      ]
    },
    {
      "cell_type": "markdown",
      "metadata": {
        "id": "-XwkG-cLIBAn"
      },
      "source": [
        "ADDING LEN FEAT"
      ]
    },
    {
      "cell_type": "code",
      "metadata": {
        "id": "lodqTzrlHRM1"
      },
      "source": [
        "full_train_df['question1_string'] = cast_list_as_strings(list(full_train_df[\"question1\"]))\n",
        "full_train_df['question2_string'] = cast_list_as_strings(list(full_train_df[\"question2\"]))"
      ],
      "execution_count": 104,
      "outputs": []
    },
    {
      "cell_type": "code",
      "metadata": {
        "id": "cBDYryi1IOtp"
      },
      "source": [
        "max_q1 = max([len(s) for s in full_train_df['question1_string']])\n",
        "max_q2 = max([len(s) for s in full_train_df['question2_string']])\n",
        "\n",
        "full_train_df['len_q1'] = [len(s)/max_q1 for s in full_train_df['question1_string']] \n",
        "full_train_df['len_q2'] = [len(s)/max_q2 for s in full_train_df['question2_string']]\n",
        "\n",
        "train_df, test_df = sklearn.model_selection.train_test_split(full_train_df, test_size=0.1,random_state=123)"
      ],
      "execution_count": 105,
      "outputs": []
    },
    {
      "cell_type": "code",
      "metadata": {
        "colab": {
          "base_uri": "https://localhost:8080/"
        },
        "id": "nIRkj57fQ6rS",
        "outputId": "37596cc0-6020-40d3-cb54-b876db1580f4"
      },
      "source": [
        "scipy.sparse.hstack((tfidf_tr_q1q2_sim,train_df['len_q1'].to_numpy().reshape(len(train_df['len_q1']),1),train_df['len_q2'].to_numpy().reshape(len(train_df['len_q2']),1)))"
      ],
      "execution_count": 109,
      "outputs": [
        {
          "output_type": "execute_result",
          "data": {
            "text/plain": [
              "<363861x172309 sparse matrix of type '<class 'numpy.float64'>'\n",
              "\twith 8381270 stored elements in COOrdinate format>"
            ]
          },
          "metadata": {
            "tags": []
          },
          "execution_count": 109
        }
      ]
    },
    {
      "cell_type": "code",
      "metadata": {
        "id": "elcW7qXRO1Xd"
      },
      "source": [
        "def add_a_column_feat(col_q1, colq2, sparse_matrix):\n",
        "    feat_q1 = col_q1.to_numpy().reshape(len(col_q1),1)\n",
        "    feat_q2 = colq2.to_numpy().reshape(len(colq2),1)\n",
        "\n",
        "    return scipy.sparse.hstack((sparse_matrix,feat_q1,feat_q2)).tocsr()\n",
        "\n"
      ],
      "execution_count": 111,
      "outputs": []
    },
    {
      "cell_type": "code",
      "metadata": {
        "colab": {
          "base_uri": "https://localhost:8080/"
        },
        "id": "So0G_YO9OnZV",
        "outputId": "45249588-1a30-49da-9bb2-389dacb7f93a"
      },
      "source": [
        "tfidf_tr_q1q2_len  = add_a_column_feat(train_df['len_q1'], train_df['len_q2'],tfidf_tr_q1q2_sim)\n",
        "tfidf_te_q1q2_len  = add_a_column_feat(test_df['len_q1'], test_df['len_q2'], tfidf_te_q1q2_sim)\n",
        "\n",
        "tfidf_tr_q1q2_len.shape, train_df.shape, test_df.shape, tfidf_te_q1q2_len.shape"
      ],
      "execution_count": 114,
      "outputs": [
        {
          "output_type": "execute_result",
          "data": {
            "text/plain": [
              "((363861, 172309), (363861, 10), (40429, 10), (40429, 172309))"
            ]
          },
          "metadata": {
            "tags": []
          },
          "execution_count": 114
        }
      ]
    },
    {
      "cell_type": "code",
      "metadata": {
        "colab": {
          "base_uri": "https://localhost:8080/"
        },
        "id": "GLGJQKrBOud1",
        "outputId": "71e553b3-5fda-4f8e-a378-150f3791e470"
      },
      "source": [
        "logistic_sim_len = sklearn.linear_model.LogisticRegression(solver=\"liblinear\",\n",
        "                                                   random_state=123)\n",
        "logistic_sim_len.fit(tfidf_tr_q1q2_len, y_train)"
      ],
      "execution_count": 115,
      "outputs": [
        {
          "output_type": "execute_result",
          "data": {
            "text/plain": [
              "LogisticRegression(C=1.0, class_weight=None, dual=False, fit_intercept=True,\n",
              "                   intercept_scaling=1, l1_ratio=None, max_iter=100,\n",
              "                   multi_class='auto', n_jobs=None, penalty='l2',\n",
              "                   random_state=123, solver='liblinear', tol=0.0001, verbose=0,\n",
              "                   warm_start=False)"
            ]
          },
          "metadata": {
            "tags": []
          },
          "execution_count": 115
        }
      ]
    },
    {
      "cell_type": "code",
      "metadata": {
        "colab": {
          "base_uri": "https://localhost:8080/"
        },
        "id": "l_FSCfHmSaW_",
        "outputId": "7954fb63-c87a-4d78-cb5e-fd5804b2c674"
      },
      "source": [
        "logistic_sim_len.score(tfidf_te_q1q2_len, y_val)"
      ],
      "execution_count": 117,
      "outputs": [
        {
          "output_type": "execute_result",
          "data": {
            "text/plain": [
              "0.7962848450369784"
            ]
          },
          "metadata": {
            "tags": []
          },
          "execution_count": 117
        }
      ]
    },
    {
      "cell_type": "code",
      "metadata": {
        "id": "CfV7mDUrShnq"
      },
      "source": [
        ""
      ],
      "execution_count": null,
      "outputs": []
    }
  ]
}